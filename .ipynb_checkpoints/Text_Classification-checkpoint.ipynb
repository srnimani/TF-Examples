{
 "cells": [
  {
   "cell_type": "code",
   "execution_count": 1,
   "metadata": {},
   "outputs": [
    {
     "name": "stdout",
     "output_type": "stream",
     "text": [
      "2.0.0-alpha0\n"
     ]
    }
   ],
   "source": [
    "from __future__ import absolute_import, division, print_function\n",
    "import tensorflow as tf\n",
    "from tensorflow import keras\n",
    "import numpy as np\n",
    "print (tf.__version__)"
   ]
  },
  {
   "cell_type": "code",
   "execution_count": 2,
   "metadata": {},
   "outputs": [
    {
     "name": "stdout",
     "output_type": "stream",
     "text": [
      "Downloading data from https://storage.googleapis.com/tensorflow/tf-keras-datasets/imdb.npz\n",
      "17465344/17464789 [==============================] - 2s 0us/step\n"
     ]
    }
   ],
   "source": [
    "imdb = keras.datasets.imdb\n",
    "(train_data, train_labels), (test_data, test_labels) = imdb.load_data(num_words = 10000)"
   ]
  },
  {
   "cell_type": "code",
   "execution_count": 3,
   "metadata": {},
   "outputs": [
    {
     "name": "stdout",
     "output_type": "stream",
     "text": [
      "Training Entries: 25000, labels: 25000\n"
     ]
    }
   ],
   "source": [
    "print (\"Training Entries: {}, labels: {}\".format(len(train_data), len(train_labels)))"
   ]
  },
  {
   "cell_type": "code",
   "execution_count": 4,
   "metadata": {},
   "outputs": [
    {
     "name": "stdout",
     "output_type": "stream",
     "text": [
      "[1, 14, 22, 16, 43, 530, 973, 1622, 1385, 65, 458, 4468, 66, 3941, 4, 173, 36, 256, 5, 25, 100, 43, 838, 112, 50, 670, 2, 9, 35, 480, 284, 5, 150, 4, 172, 112, 167, 2, 336, 385, 39, 4, 172, 4536, 1111, 17, 546, 38, 13, 447, 4, 192, 50, 16, 6, 147, 2025, 19, 14, 22, 4, 1920, 4613, 469, 4, 22, 71, 87, 12, 16, 43, 530, 38, 76, 15, 13, 1247, 4, 22, 17, 515, 17, 12, 16, 626, 18, 2, 5, 62, 386, 12, 8, 316, 8, 106, 5, 4, 2223, 5244, 16, 480, 66, 3785, 33, 4, 130, 12, 16, 38, 619, 5, 25, 124, 51, 36, 135, 48, 25, 1415, 33, 6, 22, 12, 215, 28, 77, 52, 5, 14, 407, 16, 82, 2, 8, 4, 107, 117, 5952, 15, 256, 4, 2, 7, 3766, 5, 723, 36, 71, 43, 530, 476, 26, 400, 317, 46, 7, 4, 2, 1029, 13, 104, 88, 4, 381, 15, 297, 98, 32, 2071, 56, 26, 141, 6, 194, 7486, 18, 4, 226, 22, 21, 134, 476, 26, 480, 5, 144, 30, 5535, 18, 51, 36, 28, 224, 92, 25, 104, 4, 226, 65, 16, 38, 1334, 88, 12, 16, 283, 5, 16, 4472, 113, 103, 32, 15, 16, 5345, 19, 178, 32]\n"
     ]
    }
   ],
   "source": [
    "print(train_data[0])"
   ]
  },
  {
   "cell_type": "code",
   "execution_count": 5,
   "metadata": {},
   "outputs": [
    {
     "data": {
      "text/plain": [
       "(218, 189)"
      ]
     },
     "execution_count": 5,
     "metadata": {},
     "output_type": "execute_result"
    }
   ],
   "source": [
    "len(train_data[0]), len(train_data[1])"
   ]
  },
  {
   "cell_type": "code",
   "execution_count": 6,
   "metadata": {},
   "outputs": [
    {
     "name": "stdout",
     "output_type": "stream",
     "text": [
      "Downloading data from https://storage.googleapis.com/tensorflow/tf-keras-datasets/imdb_word_index.json\n",
      "1646592/1641221 [==============================] - 0s 0us/step\n"
     ]
    }
   ],
   "source": [
    "# A dictionary mapping words to integer index\n",
    "word_index = imdb.get_word_index()"
   ]
  },
  {
   "cell_type": "code",
   "execution_count": 7,
   "metadata": {},
   "outputs": [],
   "source": [
    "# The first indices are reserved\n",
    "word_index = {k:(v+3) for k,v in word_index.items()}\n",
    "word_index[\"<PAD>\"] = 0\n",
    "word_index[\"<START>\"] = 1\n",
    "word_index[\"<UNK>\"] = 2 # unknown\n",
    "word_index[\"<UNUSED>\"] = 3\n",
    "\n",
    "reverse_word_index = dict([(value, key) for (key, value) in word_index.items()])\n",
    "\n",
    "def decode_review(text):\n",
    "    return ' '.join([reverse_word_index.get(i, '?') for i in text])"
   ]
  },
  {
   "cell_type": "code",
   "execution_count": 8,
   "metadata": {},
   "outputs": [
    {
     "data": {
      "text/plain": [
       "\"<START> big hair big boobs bad music and a giant safety pin these are the words to best describe this terrible movie i love cheesy horror movies and i've seen hundreds but this had got to be on of the worst ever made the plot is paper thin and ridiculous the acting is an abomination the script is completely laughable the best is the end showdown with the cop and how he worked out who the killer is it's just so damn terribly written the clothes are sickening and funny in equal <UNK> the hair is big lots of boobs <UNK> men wear those cut <UNK> shirts that show off their <UNK> sickening that men actually wore them and the music is just <UNK> trash that plays over and over again in almost every scene there is trashy music boobs and <UNK> taking away bodies and the gym still doesn't close for <UNK> all joking aside this is a truly bad film whose only charm is to look back on the disaster that was the 80's and have a good old laugh at how bad everything was back then\""
      ]
     },
     "execution_count": 8,
     "metadata": {},
     "output_type": "execute_result"
    }
   ],
   "source": [
    "decode_review(train_data[1])"
   ]
  },
  {
   "cell_type": "code",
   "execution_count": 9,
   "metadata": {},
   "outputs": [],
   "source": [
    "train_data = keras.preprocessing.sequence.pad_sequences(train_data,\n",
    "                                                       value = word_index[\"<PAD>\"],\n",
    "                                                       padding = 'post',\n",
    "                                                       maxlen = 256)"
   ]
  },
  {
   "cell_type": "code",
   "execution_count": 10,
   "metadata": {},
   "outputs": [],
   "source": [
    "test_data = keras.preprocessing.sequence.pad_sequences(test_data,\n",
    "                                                       value = word_index[\"<PAD>\"],\n",
    "                                                       padding = 'post',\n",
    "                                                       maxlen = 256)"
   ]
  },
  {
   "cell_type": "code",
   "execution_count": 11,
   "metadata": {},
   "outputs": [
    {
     "data": {
      "text/plain": [
       "(256, 256)"
      ]
     },
     "execution_count": 11,
     "metadata": {},
     "output_type": "execute_result"
    }
   ],
   "source": [
    "len(train_data[0]), len(train_data[1])"
   ]
  },
  {
   "cell_type": "code",
   "execution_count": 12,
   "metadata": {},
   "outputs": [
    {
     "name": "stdout",
     "output_type": "stream",
     "text": [
      "[   1   14   22   16   43  530  973 1622 1385   65  458 4468   66 3941\n",
      "    4  173   36  256    5   25  100   43  838  112   50  670    2    9\n",
      "   35  480  284    5  150    4  172  112  167    2  336  385   39    4\n",
      "  172 4536 1111   17  546   38   13  447    4  192   50   16    6  147\n",
      " 2025   19   14   22    4 1920 4613  469    4   22   71   87   12   16\n",
      "   43  530   38   76   15   13 1247    4   22   17  515   17   12   16\n",
      "  626   18    2    5   62  386   12    8  316    8  106    5    4 2223\n",
      " 5244   16  480   66 3785   33    4  130   12   16   38  619    5   25\n",
      "  124   51   36  135   48   25 1415   33    6   22   12  215   28   77\n",
      "   52    5   14  407   16   82    2    8    4  107  117 5952   15  256\n",
      "    4    2    7 3766    5  723   36   71   43  530  476   26  400  317\n",
      "   46    7    4    2 1029   13  104   88    4  381   15  297   98   32\n",
      " 2071   56   26  141    6  194 7486   18    4  226   22   21  134  476\n",
      "   26  480    5  144   30 5535   18   51   36   28  224   92   25  104\n",
      "    4  226   65   16   38 1334   88   12   16  283    5   16 4472  113\n",
      "  103   32   15   16 5345   19  178   32    0    0    0    0    0    0\n",
      "    0    0    0    0    0    0    0    0    0    0    0    0    0    0\n",
      "    0    0    0    0    0    0    0    0    0    0    0    0    0    0\n",
      "    0    0    0    0]\n"
     ]
    }
   ],
   "source": [
    "print (train_data[0])"
   ]
  },
  {
   "cell_type": "code",
   "execution_count": 13,
   "metadata": {},
   "outputs": [
    {
     "name": "stdout",
     "output_type": "stream",
     "text": [
      "Model: \"sequential\"\n",
      "_________________________________________________________________\n",
      "Layer (type)                 Output Shape              Param #   \n",
      "=================================================================\n",
      "embedding (Embedding)        (None, None, 16)          160000    \n",
      "_________________________________________________________________\n",
      "global_average_pooling1d (Gl (None, 16)                0         \n",
      "_________________________________________________________________\n",
      "dense (Dense)                (None, 16)                272       \n",
      "_________________________________________________________________\n",
      "dense_1 (Dense)              (None, 1)                 17        \n",
      "=================================================================\n",
      "Total params: 160,289\n",
      "Trainable params: 160,289\n",
      "Non-trainable params: 0\n",
      "_________________________________________________________________\n"
     ]
    }
   ],
   "source": [
    "# Input shape is the vocabulary count used for the moview reviews (10000 words)\n",
    "vocab_size = 10000\n",
    "\n",
    "model = keras.Sequential()\n",
    "model.add(keras.layers.Embedding(vocab_size, 16))\n",
    "model.add(keras.layers.GlobalAveragePooling1D())\n",
    "model.add(keras.layers.Dense(16, activation = 'relu'))\n",
    "model.add(keras.layers.Dense(1, activation = 'sigmoid'))\n",
    "\n",
    "model.summary()"
   ]
  },
  {
   "cell_type": "code",
   "execution_count": 14,
   "metadata": {},
   "outputs": [],
   "source": [
    "# Define Loss function and optimizer\n",
    "model.compile(optimizer = 'adam',\n",
    "              loss = 'binary_crossentropy',\n",
    "              metrics = ['accuracy'])"
   ]
  },
  {
   "cell_type": "code",
   "execution_count": 15,
   "metadata": {},
   "outputs": [],
   "source": [
    "# Create a Validation Set\n",
    "x_val = train_data[:10000]\n",
    "partial_x_train = train_data[10000:]\n",
    "\n",
    "y_val = train_labels[:10000]\n",
    "partial_y_train = train_labels[10000:]\n"
   ]
  },
  {
   "cell_type": "code",
   "execution_count": 16,
   "metadata": {},
   "outputs": [
    {
     "name": "stdout",
     "output_type": "stream",
     "text": [
      "Train on 15000 samples, validate on 10000 samples\n",
      "Epoch 1/40\n",
      "15000/15000 [==============================] - 2s 107us/sample - loss: 0.6920 - accuracy: 0.5331 - val_loss: 0.6904 - val_accuracy: 0.5607\n",
      "Epoch 2/40\n",
      "15000/15000 [==============================] - 1s 94us/sample - loss: 0.6871 - accuracy: 0.6525 - val_loss: 0.6836 - val_accuracy: 0.6740\n",
      "Epoch 3/40\n",
      "15000/15000 [==============================] - 1s 79us/sample - loss: 0.6750 - accuracy: 0.7186 - val_loss: 0.6668 - val_accuracy: 0.7483\n",
      "Epoch 4/40\n",
      "15000/15000 [==============================] - 2s 104us/sample - loss: 0.6510 - accuracy: 0.7478 - val_loss: 0.6389 - val_accuracy: 0.7605\n",
      "Epoch 5/40\n",
      "15000/15000 [==============================] - 1s 90us/sample - loss: 0.6148 - accuracy: 0.7851 - val_loss: 0.6011 - val_accuracy: 0.7855\n",
      "Epoch 6/40\n",
      "15000/15000 [==============================] - 1s 90us/sample - loss: 0.5692 - accuracy: 0.8099 - val_loss: 0.5576 - val_accuracy: 0.8016\n",
      "Epoch 7/40\n",
      "15000/15000 [==============================] - 1s 99us/sample - loss: 0.5191 - accuracy: 0.8283 - val_loss: 0.5110 - val_accuracy: 0.8222\n",
      "Epoch 8/40\n",
      "15000/15000 [==============================] - 1s 86us/sample - loss: 0.4699 - accuracy: 0.8475 - val_loss: 0.4690 - val_accuracy: 0.8343\n",
      "Epoch 9/40\n",
      "15000/15000 [==============================] - 1s 90us/sample - loss: 0.4252 - accuracy: 0.8624 - val_loss: 0.4320 - val_accuracy: 0.8461\n",
      "Epoch 10/40\n",
      "15000/15000 [==============================] - 1s 91us/sample - loss: 0.3864 - accuracy: 0.8757 - val_loss: 0.4023 - val_accuracy: 0.8523\n",
      "Epoch 11/40\n",
      "15000/15000 [==============================] - 1s 87us/sample - loss: 0.3541 - accuracy: 0.8837 - val_loss: 0.3780 - val_accuracy: 0.8610\n",
      "Epoch 12/40\n",
      "15000/15000 [==============================] - 1s 90us/sample - loss: 0.3271 - accuracy: 0.8908 - val_loss: 0.3598 - val_accuracy: 0.8636\n",
      "Epoch 13/40\n",
      "15000/15000 [==============================] - 1s 87us/sample - loss: 0.3051 - accuracy: 0.8977 - val_loss: 0.3437 - val_accuracy: 0.8694\n",
      "Epoch 14/40\n",
      "15000/15000 [==============================] - 1s 88us/sample - loss: 0.2853 - accuracy: 0.9033 - val_loss: 0.3321 - val_accuracy: 0.8738\n",
      "Epoch 15/40\n",
      "15000/15000 [==============================] - 1s 86us/sample - loss: 0.2688 - accuracy: 0.9085 - val_loss: 0.3223 - val_accuracy: 0.8752\n",
      "Epoch 16/40\n",
      "15000/15000 [==============================] - 1s 92us/sample - loss: 0.2539 - accuracy: 0.9133 - val_loss: 0.3144 - val_accuracy: 0.8757\n",
      "Epoch 17/40\n",
      "15000/15000 [==============================] - 2s 105us/sample - loss: 0.2401 - accuracy: 0.9175 - val_loss: 0.3078 - val_accuracy: 0.8798\n",
      "Epoch 18/40\n",
      "15000/15000 [==============================] - 1s 98us/sample - loss: 0.2279 - accuracy: 0.9224 - val_loss: 0.3022 - val_accuracy: 0.8812\n",
      "Epoch 19/40\n",
      "15000/15000 [==============================] - 1s 90us/sample - loss: 0.2169 - accuracy: 0.9244 - val_loss: 0.2976 - val_accuracy: 0.8816\n",
      "Epoch 20/40\n",
      "15000/15000 [==============================] - 2s 106us/sample - loss: 0.2070 - accuracy: 0.9285 - val_loss: 0.2945 - val_accuracy: 0.8830\n",
      "Epoch 21/40\n",
      "15000/15000 [==============================] - 2s 136us/sample - loss: 0.1968 - accuracy: 0.9336 - val_loss: 0.2919 - val_accuracy: 0.8829\n",
      "Epoch 22/40\n",
      "15000/15000 [==============================] - 2s 130us/sample - loss: 0.1883 - accuracy: 0.9371 - val_loss: 0.2894 - val_accuracy: 0.8847\n",
      "Epoch 23/40\n",
      "15000/15000 [==============================] - 3s 186us/sample - loss: 0.1797 - accuracy: 0.9413 - val_loss: 0.2889 - val_accuracy: 0.8841\n",
      "Epoch 24/40\n",
      "15000/15000 [==============================] - 3s 178us/sample - loss: 0.1723 - accuracy: 0.9445 - val_loss: 0.2877 - val_accuracy: 0.8848\n",
      "Epoch 25/40\n",
      "15000/15000 [==============================] - 3s 174us/sample - loss: 0.1646 - accuracy: 0.9480 - val_loss: 0.2863 - val_accuracy: 0.8851\n",
      "Epoch 26/40\n",
      "15000/15000 [==============================] - 2s 165us/sample - loss: 0.1579 - accuracy: 0.9502 - val_loss: 0.2872 - val_accuracy: 0.8838\n",
      "Epoch 27/40\n",
      "15000/15000 [==============================] - 2s 160us/sample - loss: 0.1514 - accuracy: 0.9527 - val_loss: 0.2869 - val_accuracy: 0.8849\n",
      "Epoch 28/40\n",
      "15000/15000 [==============================] - 2s 158us/sample - loss: 0.1452 - accuracy: 0.9555 - val_loss: 0.2879 - val_accuracy: 0.8862\n",
      "Epoch 29/40\n",
      "15000/15000 [==============================] - 2s 159us/sample - loss: 0.1398 - accuracy: 0.9584 - val_loss: 0.2895 - val_accuracy: 0.8845\n",
      "Epoch 30/40\n",
      "15000/15000 [==============================] - 2s 159us/sample - loss: 0.1341 - accuracy: 0.9602 - val_loss: 0.2892 - val_accuracy: 0.8862\n",
      "Epoch 31/40\n",
      "15000/15000 [==============================] - 2s 148us/sample - loss: 0.1283 - accuracy: 0.9623 - val_loss: 0.2905 - val_accuracy: 0.8865\n",
      "Epoch 32/40\n",
      "15000/15000 [==============================] - 2s 156us/sample - loss: 0.1232 - accuracy: 0.9658 - val_loss: 0.2922 - val_accuracy: 0.8858\n",
      "Epoch 33/40\n",
      "15000/15000 [==============================] - 2s 151us/sample - loss: 0.1182 - accuracy: 0.9669 - val_loss: 0.2947 - val_accuracy: 0.8857\n",
      "Epoch 34/40\n",
      "15000/15000 [==============================] - 2s 149us/sample - loss: 0.1137 - accuracy: 0.9683 - val_loss: 0.2973 - val_accuracy: 0.8842\n",
      "Epoch 35/40\n",
      "15000/15000 [==============================] - 2s 159us/sample - loss: 0.1095 - accuracy: 0.9689 - val_loss: 0.2999 - val_accuracy: 0.8855\n",
      "Epoch 36/40\n",
      "15000/15000 [==============================] - ETA: 0s - loss: 0.1050 - accuracy: 0.97 - 2s 161us/sample - loss: 0.1051 - accuracy: 0.9714 - val_loss: 0.3018 - val_accuracy: 0.8843\n",
      "Epoch 37/40\n",
      "15000/15000 [==============================] - 2s 148us/sample - loss: 0.1008 - accuracy: 0.9728 - val_loss: 0.3048 - val_accuracy: 0.8839\n",
      "Epoch 38/40\n",
      "15000/15000 [==============================] - 2s 105us/sample - loss: 0.0968 - accuracy: 0.9743 - val_loss: 0.3088 - val_accuracy: 0.8824\n",
      "Epoch 39/40\n",
      "15000/15000 [==============================] - 1s 86us/sample - loss: 0.0937 - accuracy: 0.9757 - val_loss: 0.3129 - val_accuracy: 0.8812\n",
      "Epoch 40/40\n",
      "15000/15000 [==============================] - 1s 93us/sample - loss: 0.0895 - accuracy: 0.9777 - val_loss: 0.3159 - val_accuracy: 0.8820\n"
     ]
    }
   ],
   "source": [
    "history = model.fit(partial_x_train,\n",
    "                    partial_y_train,\n",
    "                    epochs = 40,\n",
    "                    batch_size = 512,\n",
    "                    validation_data = (x_val, y_val),\n",
    "                    verbose = 1)"
   ]
  },
  {
   "cell_type": "code",
   "execution_count": 17,
   "metadata": {},
   "outputs": [
    {
     "name": "stdout",
     "output_type": "stream",
     "text": [
      "25000/25000 [==============================] - 1s 42us/sample - loss: 0.3375 - accuracy: 0.8708\n",
      "[0.337463447971344, 0.87076]\n"
     ]
    }
   ],
   "source": [
    "results = model.evaluate(test_data, test_labels)\n",
    "print (results)"
   ]
  },
  {
   "cell_type": "code",
   "execution_count": 18,
   "metadata": {},
   "outputs": [
    {
     "data": {
      "text/plain": [
       "dict_keys(['loss', 'accuracy', 'val_loss', 'val_accuracy'])"
      ]
     },
     "execution_count": 18,
     "metadata": {},
     "output_type": "execute_result"
    }
   ],
   "source": [
    "history_dict = history.history\n",
    "history_dict.keys()"
   ]
  },
  {
   "cell_type": "code",
   "execution_count": 19,
   "metadata": {},
   "outputs": [],
   "source": [
    "# Plot the training and testing curve\n",
    "import matplotlib.pyplot as plt\n",
    "acc = history_dict[\"accuracy\"]\n",
    "val_acc = history_dict[\"val_accuracy\"]\n",
    "loss = history_dict[\"loss\"]\n",
    "val_loss = history_dict[\"val_loss\"]\n",
    "\n",
    "epochs = range(1, len(acc) + 1)"
   ]
  },
  {
   "cell_type": "code",
   "execution_count": 20,
   "metadata": {},
   "outputs": [
    {
     "data": {
      "image/png": "[encoded data removed]",
      "text/plain": [
       "<Figure size 432x288 with 1 Axes>"
      ]
     },
     "metadata": {
      "needs_background": "light"
     },
     "output_type": "display_data"
    }
   ],
   "source": [
    "# \"bo\" is for blue dot\n",
    "plt.plot(epochs, loss, 'bo', label = 'Training Loss')\n",
    "plt.title(\"Training and Validation Loss\")\n",
    "plt.xlabel(\"Epochs\")\n",
    "plt.ylabel(\"Loss\")\n",
    "plt.legend()\n",
    "plt.show()"
   ]
  },
  {
   "cell_type": "code",
   "execution_count": 21,
   "metadata": {},
   "outputs": [
    {
     "data": {
      "image/png": "[encoded data removed]",
      "text/plain": [
       "<Figure size 432x288 with 1 Axes>"
      ]
     },
     "metadata": {
      "needs_background": "light"
     },
     "output_type": "display_data"
    }
   ],
   "source": [
    "plt.clf() # Clear figure\n",
    "\n",
    "plt.plot(epochs, acc, 'bo', label = \"Training Accuracy\")\n",
    "plt.plot(epochs, val_acc, 'b', label = \"Validation Accuracy\")\n",
    "plt.title(\"Training and Validation Accuracy\")\n",
    "plt.xlabel(\"Epochs\")\n",
    "plt.ylabel(\"Accuracy\")\n",
    "plt.legend()\n",
    "\n",
    "plt.show()"
   ]
  },
  {
   "cell_type": "code",
   "execution_count": null,
   "metadata": {},
   "outputs": [],
   "source": []
  }
 ],
 "metadata": {
  "kernelspec": {
   "display_name": "Python 3",
   "language": "python",
   "name": "python3"
  },
  "language_info": {
   "codemirror_mode": {
    "name": "ipython",
    "version": 3
   },
   "file_extension": ".py",
   "mimetype": "text/x-python",
   "name": "python",
   "nbconvert_exporter": "python",
   "pygments_lexer": "ipython3",
   "version": "3.7.3"
  }
 },
 "nbformat": 4,
 "nbformat_minor": 2
}
