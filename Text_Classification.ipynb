{
 "cells": [
  {
   "cell_type": "code",
   "execution_count": 1,
   "metadata": {},
   "outputs": [
    {
     "name": "stdout",
     "output_type": "stream",
     "text": [
      "2.0.0-alpha0\n"
     ]
    }
   ],
   "source": [
    "from __future__ import absolute_import, division, print_function\n",
    "import tensorflow as tf\n",
    "from tensorflow import keras\n",
    "import numpy as np\n",
    "print (tf.__version__)"
   ]
  },
  {
   "cell_type": "code",
   "execution_count": 2,
   "metadata": {},
   "outputs": [],
   "source": [
    "import time\n",
    "start = time.time()"
   ]
  },
  {
   "cell_type": "code",
   "execution_count": 3,
   "metadata": {},
   "outputs": [],
   "source": [
    "imdb = keras.datasets.imdb\n",
    "(train_data, train_labels), (test_data, test_labels) = imdb.load_data(num_words = 10000)"
   ]
  },
  {
   "cell_type": "code",
   "execution_count": 4,
   "metadata": {},
   "outputs": [
    {
     "name": "stdout",
     "output_type": "stream",
     "text": [
      "Training Entries: 25000, labels: 25000\n"
     ]
    }
   ],
   "source": [
    "print (\"Training Entries: {}, labels: {}\".format(len(train_data), len(train_labels)))"
   ]
  },
  {
   "cell_type": "code",
   "execution_count": 5,
   "metadata": {},
   "outputs": [
    {
     "name": "stdout",
     "output_type": "stream",
     "text": [
      "[1, 14, 22, 16, 43, 530, 973, 1622, 1385, 65, 458, 4468, 66, 3941, 4, 173, 36, 256, 5, 25, 100, 43, 838, 112, 50, 670, 2, 9, 35, 480, 284, 5, 150, 4, 172, 112, 167, 2, 336, 385, 39, 4, 172, 4536, 1111, 17, 546, 38, 13, 447, 4, 192, 50, 16, 6, 147, 2025, 19, 14, 22, 4, 1920, 4613, 469, 4, 22, 71, 87, 12, 16, 43, 530, 38, 76, 15, 13, 1247, 4, 22, 17, 515, 17, 12, 16, 626, 18, 2, 5, 62, 386, 12, 8, 316, 8, 106, 5, 4, 2223, 5244, 16, 480, 66, 3785, 33, 4, 130, 12, 16, 38, 619, 5, 25, 124, 51, 36, 135, 48, 25, 1415, 33, 6, 22, 12, 215, 28, 77, 52, 5, 14, 407, 16, 82, 2, 8, 4, 107, 117, 5952, 15, 256, 4, 2, 7, 3766, 5, 723, 36, 71, 43, 530, 476, 26, 400, 317, 46, 7, 4, 2, 1029, 13, 104, 88, 4, 381, 15, 297, 98, 32, 2071, 56, 26, 141, 6, 194, 7486, 18, 4, 226, 22, 21, 134, 476, 26, 480, 5, 144, 30, 5535, 18, 51, 36, 28, 224, 92, 25, 104, 4, 226, 65, 16, 38, 1334, 88, 12, 16, 283, 5, 16, 4472, 113, 103, 32, 15, 16, 5345, 19, 178, 32]\n"
     ]
    }
   ],
   "source": [
    "print(train_data[0])"
   ]
  },
  {
   "cell_type": "code",
   "execution_count": 6,
   "metadata": {},
   "outputs": [
    {
     "data": {
      "text/plain": [
       "(218, 189)"
      ]
     },
     "execution_count": 6,
     "metadata": {},
     "output_type": "execute_result"
    }
   ],
   "source": [
    "len(train_data[0]), len(train_data[1])"
   ]
  },
  {
   "cell_type": "code",
   "execution_count": 7,
   "metadata": {},
   "outputs": [],
   "source": [
    "# A dictionary mapping words to integer index\n",
    "word_index = imdb.get_word_index()"
   ]
  },
  {
   "cell_type": "code",
   "execution_count": 8,
   "metadata": {},
   "outputs": [],
   "source": [
    "# The first indices are reserved\n",
    "word_index = {k:(v+3) for k,v in word_index.items()}\n",
    "word_index[\"<PAD>\"] = 0\n",
    "word_index[\"<START>\"] = 1\n",
    "word_index[\"<UNK>\"] = 2 # unknown\n",
    "word_index[\"<UNUSED>\"] = 3\n",
    "\n",
    "reverse_word_index = dict([(value, key) for (key, value) in word_index.items()])\n",
    "\n",
    "def decode_review(text):\n",
    "    return ' '.join([reverse_word_index.get(i, '?') for i in text])"
   ]
  },
  {
   "cell_type": "code",
   "execution_count": 9,
   "metadata": {},
   "outputs": [
    {
     "data": {
      "text/plain": [
       "\"<START> big hair big boobs bad music and a giant safety pin these are the words to best describe this terrible movie i love cheesy horror movies and i've seen hundreds but this had got to be on of the worst ever made the plot is paper thin and ridiculous the acting is an abomination the script is completely laughable the best is the end showdown with the cop and how he worked out who the killer is it's just so damn terribly written the clothes are sickening and funny in equal <UNK> the hair is big lots of boobs <UNK> men wear those cut <UNK> shirts that show off their <UNK> sickening that men actually wore them and the music is just <UNK> trash that plays over and over again in almost every scene there is trashy music boobs and <UNK> taking away bodies and the gym still doesn't close for <UNK> all joking aside this is a truly bad film whose only charm is to look back on the disaster that was the 80's and have a good old laugh at how bad everything was back then\""
      ]
     },
     "execution_count": 9,
     "metadata": {},
     "output_type": "execute_result"
    }
   ],
   "source": [
    "decode_review(train_data[1])"
   ]
  },
  {
   "cell_type": "code",
   "execution_count": 10,
   "metadata": {},
   "outputs": [],
   "source": [
    "train_data = keras.preprocessing.sequence.pad_sequences(train_data,\n",
    "                                                       value = word_index[\"<PAD>\"],\n",
    "                                                       padding = 'post',\n",
    "                                                       maxlen = 256)"
   ]
  },
  {
   "cell_type": "code",
   "execution_count": 11,
   "metadata": {},
   "outputs": [],
   "source": [
    "test_data = keras.preprocessing.sequence.pad_sequences(test_data,\n",
    "                                                       value = word_index[\"<PAD>\"],\n",
    "                                                       padding = 'post',\n",
    "                                                       maxlen = 256)"
   ]
  },
  {
   "cell_type": "code",
   "execution_count": 12,
   "metadata": {},
   "outputs": [
    {
     "data": {
      "text/plain": [
       "(256, 256)"
      ]
     },
     "execution_count": 12,
     "metadata": {},
     "output_type": "execute_result"
    }
   ],
   "source": [
    "len(train_data[0]), len(train_data[1])"
   ]
  },
  {
   "cell_type": "code",
   "execution_count": 13,
   "metadata": {},
   "outputs": [
    {
     "name": "stdout",
     "output_type": "stream",
     "text": [
      "[   1   14   22   16   43  530  973 1622 1385   65  458 4468   66 3941\n",
      "    4  173   36  256    5   25  100   43  838  112   50  670    2    9\n",
      "   35  480  284    5  150    4  172  112  167    2  336  385   39    4\n",
      "  172 4536 1111   17  546   38   13  447    4  192   50   16    6  147\n",
      " 2025   19   14   22    4 1920 4613  469    4   22   71   87   12   16\n",
      "   43  530   38   76   15   13 1247    4   22   17  515   17   12   16\n",
      "  626   18    2    5   62  386   12    8  316    8  106    5    4 2223\n",
      " 5244   16  480   66 3785   33    4  130   12   16   38  619    5   25\n",
      "  124   51   36  135   48   25 1415   33    6   22   12  215   28   77\n",
      "   52    5   14  407   16   82    2    8    4  107  117 5952   15  256\n",
      "    4    2    7 3766    5  723   36   71   43  530  476   26  400  317\n",
      "   46    7    4    2 1029   13  104   88    4  381   15  297   98   32\n",
      " 2071   56   26  141    6  194 7486   18    4  226   22   21  134  476\n",
      "   26  480    5  144   30 5535   18   51   36   28  224   92   25  104\n",
      "    4  226   65   16   38 1334   88   12   16  283    5   16 4472  113\n",
      "  103   32   15   16 5345   19  178   32    0    0    0    0    0    0\n",
      "    0    0    0    0    0    0    0    0    0    0    0    0    0    0\n",
      "    0    0    0    0    0    0    0    0    0    0    0    0    0    0\n",
      "    0    0    0    0]\n"
     ]
    }
   ],
   "source": [
    "print (train_data[0])"
   ]
  },
  {
   "cell_type": "code",
   "execution_count": 14,
   "metadata": {},
   "outputs": [
    {
     "name": "stdout",
     "output_type": "stream",
     "text": [
      "Model: \"sequential\"\n",
      "_________________________________________________________________\n",
      "Layer (type)                 Output Shape              Param #   \n",
      "=================================================================\n",
      "embedding (Embedding)        (None, None, 16)          160000    \n",
      "_________________________________________________________________\n",
      "global_average_pooling1d (Gl (None, 16)                0         \n",
      "_________________________________________________________________\n",
      "dense (Dense)                (None, 16)                272       \n",
      "_________________________________________________________________\n",
      "dense_1 (Dense)              (None, 1)                 17        \n",
      "=================================================================\n",
      "Total params: 160,289\n",
      "Trainable params: 160,289\n",
      "Non-trainable params: 0\n",
      "_________________________________________________________________\n"
     ]
    }
   ],
   "source": [
    "# Input shape is the vocabulary count used for the moview reviews (10000 words)\n",
    "vocab_size = 10000\n",
    "\n",
    "model = keras.Sequential()\n",
    "model.add(keras.layers.Embedding(vocab_size, 16))\n",
    "model.add(keras.layers.GlobalAveragePooling1D())\n",
    "model.add(keras.layers.Dense(16, activation = 'relu'))\n",
    "model.add(keras.layers.Dense(1, activation = 'sigmoid'))\n",
    "\n",
    "model.summary()"
   ]
  },
  {
   "cell_type": "code",
   "execution_count": 15,
   "metadata": {},
   "outputs": [],
   "source": [
    "# Define Loss function and optimizer\n",
    "model.compile(optimizer = 'adam',\n",
    "              loss = 'binary_crossentropy',\n",
    "              metrics = ['accuracy'])"
   ]
  },
  {
   "cell_type": "code",
   "execution_count": 16,
   "metadata": {},
   "outputs": [],
   "source": [
    "# Create a Validation Set\n",
    "x_val = train_data[:10000]\n",
    "partial_x_train = train_data[10000:]\n",
    "\n",
    "y_val = train_labels[:10000]\n",
    "partial_y_train = train_labels[10000:]\n"
   ]
  },
  {
   "cell_type": "code",
   "execution_count": 17,
   "metadata": {},
   "outputs": [
    {
     "name": "stdout",
     "output_type": "stream",
     "text": [
      "Train on 15000 samples, validate on 10000 samples\n",
      "Epoch 1/40\n",
      "15000/15000 [==============================] - 1s 67us/sample - loss: 0.6919 - accuracy: 0.5633 - val_loss: 0.6901 - val_accuracy: 0.6421\n",
      "Epoch 2/40\n",
      "15000/15000 [==============================] - 1s 42us/sample - loss: 0.6872 - accuracy: 0.6444 - val_loss: 0.6833 - val_accuracy: 0.6457\n",
      "Epoch 3/40\n",
      "15000/15000 [==============================] - 1s 43us/sample - loss: 0.6764 - accuracy: 0.6683 - val_loss: 0.6693 - val_accuracy: 0.6897\n",
      "Epoch 4/40\n",
      "15000/15000 [==============================] - 1s 41us/sample - loss: 0.6568 - accuracy: 0.7309 - val_loss: 0.6462 - val_accuracy: 0.7080\n",
      "Epoch 5/40\n",
      "15000/15000 [==============================] - 1s 44us/sample - loss: 0.6271 - accuracy: 0.7619 - val_loss: 0.6143 - val_accuracy: 0.7627\n",
      "Epoch 6/40\n",
      "15000/15000 [==============================] - 1s 42us/sample - loss: 0.5882 - accuracy: 0.7961 - val_loss: 0.5757 - val_accuracy: 0.8036\n",
      "Epoch 7/40\n",
      "15000/15000 [==============================] - 1s 42us/sample - loss: 0.5429 - accuracy: 0.8246 - val_loss: 0.5325 - val_accuracy: 0.8173\n",
      "Epoch 8/40\n",
      "15000/15000 [==============================] - 1s 42us/sample - loss: 0.4957 - accuracy: 0.8469 - val_loss: 0.4907 - val_accuracy: 0.8330\n",
      "Epoch 9/40\n",
      "15000/15000 [==============================] - 1s 42us/sample - loss: 0.4503 - accuracy: 0.8619 - val_loss: 0.4522 - val_accuracy: 0.8443\n",
      "Epoch 10/40\n",
      "15000/15000 [==============================] - 1s 42us/sample - loss: 0.4092 - accuracy: 0.8738 - val_loss: 0.4198 - val_accuracy: 0.8523\n",
      "Epoch 11/40\n",
      "15000/15000 [==============================] - 1s 42us/sample - loss: 0.3739 - accuracy: 0.8843 - val_loss: 0.3924 - val_accuracy: 0.8603\n",
      "Epoch 12/40\n",
      "15000/15000 [==============================] - 1s 43us/sample - loss: 0.3438 - accuracy: 0.8898 - val_loss: 0.3707 - val_accuracy: 0.8626\n",
      "Epoch 13/40\n",
      "15000/15000 [==============================] - 1s 43us/sample - loss: 0.3191 - accuracy: 0.8959 - val_loss: 0.3522 - val_accuracy: 0.8691\n",
      "Epoch 14/40\n",
      "15000/15000 [==============================] - 1s 43us/sample - loss: 0.2971 - accuracy: 0.9017 - val_loss: 0.3384 - val_accuracy: 0.8723\n",
      "Epoch 15/40\n",
      "15000/15000 [==============================] - 1s 41us/sample - loss: 0.2788 - accuracy: 0.9050 - val_loss: 0.3276 - val_accuracy: 0.8742\n",
      "Epoch 16/40\n",
      "15000/15000 [==============================] - 1s 42us/sample - loss: 0.2624 - accuracy: 0.9111 - val_loss: 0.3182 - val_accuracy: 0.8750\n",
      "Epoch 17/40\n",
      "15000/15000 [==============================] - 1s 44us/sample - loss: 0.2475 - accuracy: 0.9155 - val_loss: 0.3104 - val_accuracy: 0.8776\n",
      "Epoch 18/40\n",
      "15000/15000 [==============================] - 1s 42us/sample - loss: 0.2344 - accuracy: 0.9212 - val_loss: 0.3042 - val_accuracy: 0.8802\n",
      "Epoch 19/40\n",
      "15000/15000 [==============================] - 1s 44us/sample - loss: 0.2226 - accuracy: 0.9239 - val_loss: 0.2986 - val_accuracy: 0.8818\n",
      "Epoch 20/40\n",
      "15000/15000 [==============================] - 1s 42us/sample - loss: 0.2121 - accuracy: 0.9269 - val_loss: 0.2947 - val_accuracy: 0.8832\n",
      "Epoch 21/40\n",
      "15000/15000 [==============================] - 1s 43us/sample - loss: 0.2014 - accuracy: 0.9333 - val_loss: 0.2913 - val_accuracy: 0.8837\n",
      "Epoch 22/40\n",
      "15000/15000 [==============================] - 1s 42us/sample - loss: 0.1925 - accuracy: 0.9363 - val_loss: 0.2893 - val_accuracy: 0.8846\n",
      "Epoch 23/40\n",
      "15000/15000 [==============================] - 1s 44us/sample - loss: 0.1836 - accuracy: 0.9403 - val_loss: 0.2881 - val_accuracy: 0.8835\n",
      "Epoch 24/40\n",
      "15000/15000 [==============================] - 1s 42us/sample - loss: 0.1760 - accuracy: 0.9433 - val_loss: 0.2857 - val_accuracy: 0.8839\n",
      "Epoch 25/40\n",
      "15000/15000 [==============================] - 1s 42us/sample - loss: 0.1682 - accuracy: 0.9463 - val_loss: 0.2848 - val_accuracy: 0.8850\n",
      "Epoch 26/40\n",
      "15000/15000 [==============================] - 1s 42us/sample - loss: 0.1612 - accuracy: 0.9496 - val_loss: 0.2852 - val_accuracy: 0.8838\n",
      "Epoch 27/40\n",
      "15000/15000 [==============================] - 1s 44us/sample - loss: 0.1547 - accuracy: 0.9526 - val_loss: 0.2847 - val_accuracy: 0.8846\n",
      "Epoch 28/40\n",
      "15000/15000 [==============================] - 1s 42us/sample - loss: 0.1484 - accuracy: 0.9547 - val_loss: 0.2848 - val_accuracy: 0.8850\n",
      "Epoch 29/40\n",
      "15000/15000 [==============================] - 1s 43us/sample - loss: 0.1429 - accuracy: 0.9573 - val_loss: 0.2871 - val_accuracy: 0.8838\n",
      "Epoch 30/40\n",
      "15000/15000 [==============================] - 1s 43us/sample - loss: 0.1372 - accuracy: 0.9590 - val_loss: 0.2863 - val_accuracy: 0.8858\n",
      "Epoch 31/40\n",
      "15000/15000 [==============================] - 1s 43us/sample - loss: 0.1315 - accuracy: 0.9611 - val_loss: 0.2876 - val_accuracy: 0.8859\n",
      "Epoch 32/40\n",
      "15000/15000 [==============================] - 1s 42us/sample - loss: 0.1263 - accuracy: 0.9645 - val_loss: 0.2892 - val_accuracy: 0.8866\n",
      "Epoch 33/40\n",
      "15000/15000 [==============================] - 1s 42us/sample - loss: 0.1214 - accuracy: 0.9655 - val_loss: 0.2916 - val_accuracy: 0.8845\n",
      "Epoch 34/40\n",
      "15000/15000 [==============================] - 1s 42us/sample - loss: 0.1171 - accuracy: 0.9670 - val_loss: 0.2931 - val_accuracy: 0.8850\n",
      "Epoch 35/40\n",
      "15000/15000 [==============================] - 1s 42us/sample - loss: 0.1128 - accuracy: 0.9683 - val_loss: 0.2967 - val_accuracy: 0.8853\n",
      "Epoch 36/40\n",
      "15000/15000 [==============================] - 1s 44us/sample - loss: 0.1086 - accuracy: 0.9711 - val_loss: 0.2983 - val_accuracy: 0.8855\n",
      "Epoch 37/40\n",
      "15000/15000 [==============================] - 1s 42us/sample - loss: 0.1044 - accuracy: 0.9723 - val_loss: 0.3006 - val_accuracy: 0.8853\n",
      "Epoch 38/40\n",
      "15000/15000 [==============================] - 1s 41us/sample - loss: 0.1006 - accuracy: 0.9741 - val_loss: 0.3043 - val_accuracy: 0.8844\n",
      "Epoch 39/40\n",
      "15000/15000 [==============================] - 1s 41us/sample - loss: 0.0974 - accuracy: 0.9749 - val_loss: 0.3074 - val_accuracy: 0.8838\n",
      "Epoch 40/40\n",
      "15000/15000 [==============================] - 1s 41us/sample - loss: 0.0935 - accuracy: 0.9771 - val_loss: 0.3095 - val_accuracy: 0.8838\n"
     ]
    }
   ],
   "source": [
    "history = model.fit(partial_x_train,\n",
    "                    partial_y_train,\n",
    "                    epochs = 40,\n",
    "                    batch_size = 512,\n",
    "                    validation_data = (x_val, y_val),\n",
    "                    verbose = 1)"
   ]
  },
  {
   "cell_type": "code",
   "execution_count": 18,
   "metadata": {},
   "outputs": [
    {
     "name": "stdout",
     "output_type": "stream",
     "text": [
      "25000/25000 [==============================] - 1s 39us/sample - loss: 0.3307 - accuracy: 0.8728\n",
      "[0.33072678726673127, 0.87284]\n"
     ]
    }
   ],
   "source": [
    "results = model.evaluate(test_data, test_labels)\n",
    "print (results)"
   ]
  },
  {
   "cell_type": "code",
   "execution_count": 19,
   "metadata": {},
   "outputs": [
    {
     "data": {
      "text/plain": [
       "dict_keys(['loss', 'accuracy', 'val_loss', 'val_accuracy'])"
      ]
     },
     "execution_count": 19,
     "metadata": {},
     "output_type": "execute_result"
    }
   ],
   "source": [
    "history_dict = history.history\n",
    "history_dict.keys()"
   ]
  },
  {
   "cell_type": "code",
   "execution_count": 20,
   "metadata": {},
   "outputs": [],
   "source": [
    "# Plot the training and testing curve\n",
    "import matplotlib.pyplot as plt\n",
    "acc = history_dict[\"accuracy\"]\n",
    "val_acc = history_dict[\"val_accuracy\"]\n",
    "loss = history_dict[\"loss\"]\n",
    "val_loss = history_dict[\"val_loss\"]\n",
    "\n",
    "epochs = range(1, len(acc) + 1)"
   ]
  },
  {
   "cell_type": "code",
   "execution_count": 21,
   "metadata": {},
   "outputs": [
    {
     "data": {
      "image/png": "[encoded data removed]",
      "text/plain": [
       "<Figure size 432x288 with 1 Axes>"
      ]
     },
     "metadata": {
      "needs_background": "light"
     },
     "output_type": "display_data"
    }
   ],
   "source": [
    "# \"bo\" is for blue dot\n",
    "plt.plot(epochs, loss, 'bo', label = 'Training Loss')\n",
    "plt.title(\"Training and Validation Loss\")\n",
    "plt.xlabel(\"Epochs\")\n",
    "plt.ylabel(\"Loss\")\n",
    "plt.legend()\n",
    "plt.show()"
   ]
  },
  {
   "cell_type": "code",
   "execution_count": 22,
   "metadata": {},
   "outputs": [
    {
     "data": {
      "image/png": "[encoded data removed]",
      "text/plain": [
       "<Figure size 432x288 with 1 Axes>"
      ]
     },
     "metadata": {
      "needs_background": "light"
     },
     "output_type": "display_data"
    }
   ],
   "source": [
    "plt.clf() # Clear figure\n",
    "\n",
    "plt.plot(epochs, acc, 'bo', label = \"Training Accuracy\")\n",
    "plt.plot(epochs, val_acc, 'b', label = \"Validation Accuracy\")\n",
    "plt.title(\"Training and Validation Accuracy\")\n",
    "plt.xlabel(\"Epochs\")\n",
    "plt.ylabel(\"Accuracy\")\n",
    "plt.legend()\n",
    "\n",
    "plt.show()"
   ]
  },
  {
   "cell_type": "code",
   "execution_count": 23,
   "metadata": {},
   "outputs": [
    {
     "name": "stdout",
     "output_type": "stream",
     "text": [
      "Total time Taken =  36.91140270233154\n"
     ]
    }
   ],
   "source": [
    "end = time.time()\n",
    "Time_taken = end - start\n",
    "print (\"Total time Taken = \", Time_taken)"
   ]
  }
 ],
 "metadata": {
  "kernelspec": {
   "display_name": "Python 3",
   "language": "python",
   "name": "python3"
  },
  "language_info": {
   "codemirror_mode": {
    "name": "ipython",
    "version": 3
   },
   "file_extension": ".py",
   "mimetype": "text/x-python",
   "name": "python",
   "nbconvert_exporter": "python",
   "pygments_lexer": "ipython3",
   "version": "3.6.6"
  }
 },
 "nbformat": 4,
 "nbformat_minor": 2
}
