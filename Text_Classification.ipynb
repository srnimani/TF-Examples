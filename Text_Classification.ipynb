{
 "cells": [
  {
   "cell_type": "code",
   "execution_count": 1,
   "metadata": {},
   "outputs": [
    {
     "name": "stdout",
     "output_type": "stream",
     "text": [
      "2.0.0-alpha0\n"
     ]
    }
   ],
   "source": [
    "from __future__ import absolute_import, division, print_function\n",
    "import tensorflow as tf\n",
    "from tensorflow import keras\n",
    "import numpy as np\n",
    "print (tf.__version__)"
   ]
  },
  {
   "cell_type": "code",
   "execution_count": 2,
   "metadata": {},
   "outputs": [],
   "source": [
    "imdb = keras.datasets.imdb\n",
    "(train_data, train_labels), (test_data, test_labels) = imdb.load_data(num_words = 10000)"
   ]
  },
  {
   "cell_type": "code",
   "execution_count": 3,
   "metadata": {},
   "outputs": [
    {
     "name": "stdout",
     "output_type": "stream",
     "text": [
      "Training Entries: 25000, labels: 25000\n"
     ]
    }
   ],
   "source": [
    "print (\"Training Entries: {}, labels: {}\".format(len(train_data), len(train_labels)))"
   ]
  },
  {
   "cell_type": "code",
   "execution_count": 4,
   "metadata": {},
   "outputs": [
    {
     "name": "stdout",
     "output_type": "stream",
     "text": [
      "[1, 14, 22, 16, 43, 530, 973, 1622, 1385, 65, 458, 4468, 66, 3941, 4, 173, 36, 256, 5, 25, 100, 43, 838, 112, 50, 670, 2, 9, 35, 480, 284, 5, 150, 4, 172, 112, 167, 2, 336, 385, 39, 4, 172, 4536, 1111, 17, 546, 38, 13, 447, 4, 192, 50, 16, 6, 147, 2025, 19, 14, 22, 4, 1920, 4613, 469, 4, 22, 71, 87, 12, 16, 43, 530, 38, 76, 15, 13, 1247, 4, 22, 17, 515, 17, 12, 16, 626, 18, 2, 5, 62, 386, 12, 8, 316, 8, 106, 5, 4, 2223, 5244, 16, 480, 66, 3785, 33, 4, 130, 12, 16, 38, 619, 5, 25, 124, 51, 36, 135, 48, 25, 1415, 33, 6, 22, 12, 215, 28, 77, 52, 5, 14, 407, 16, 82, 2, 8, 4, 107, 117, 5952, 15, 256, 4, 2, 7, 3766, 5, 723, 36, 71, 43, 530, 476, 26, 400, 317, 46, 7, 4, 2, 1029, 13, 104, 88, 4, 381, 15, 297, 98, 32, 2071, 56, 26, 141, 6, 194, 7486, 18, 4, 226, 22, 21, 134, 476, 26, 480, 5, 144, 30, 5535, 18, 51, 36, 28, 224, 92, 25, 104, 4, 226, 65, 16, 38, 1334, 88, 12, 16, 283, 5, 16, 4472, 113, 103, 32, 15, 16, 5345, 19, 178, 32]\n"
     ]
    }
   ],
   "source": [
    "print(train_data[0])"
   ]
  },
  {
   "cell_type": "code",
   "execution_count": 5,
   "metadata": {},
   "outputs": [
    {
     "data": {
      "text/plain": [
       "(218, 189)"
      ]
     },
     "execution_count": 5,
     "metadata": {},
     "output_type": "execute_result"
    }
   ],
   "source": [
    "len(train_data[0]), len(train_data[1])"
   ]
  },
  {
   "cell_type": "code",
   "execution_count": 6,
   "metadata": {},
   "outputs": [],
   "source": [
    "# A dictionary mapping words to integer index\n",
    "word_index = imdb.get_word_index()"
   ]
  },
  {
   "cell_type": "code",
   "execution_count": 7,
   "metadata": {},
   "outputs": [],
   "source": [
    "# The first indices are reserved\n",
    "word_index = {k:(v+3) for k,v in word_index.items()}\n",
    "word_index[\"<PAD>\"] = 0\n",
    "word_index[\"<START>\"] = 1\n",
    "word_index[\"<UNK>\"] = 2 # unknown\n",
    "word_index[\"<UNUSED>\"] = 3\n",
    "\n",
    "reverse_word_index = dict([(value, key) for (key, value) in word_index.items()])\n",
    "\n",
    "def decode_review(text):\n",
    "    return ' '.join([reverse_word_index.get(i, '?') for i in text])"
   ]
  },
  {
   "cell_type": "code",
   "execution_count": 8,
   "metadata": {},
   "outputs": [
    {
     "data": {
      "text/plain": [
       "\"<START> big hair big boobs bad music and a giant safety pin these are the words to best describe this terrible movie i love cheesy horror movies and i've seen hundreds but this had got to be on of the worst ever made the plot is paper thin and ridiculous the acting is an abomination the script is completely laughable the best is the end showdown with the cop and how he worked out who the killer is it's just so damn terribly written the clothes are sickening and funny in equal <UNK> the hair is big lots of boobs <UNK> men wear those cut <UNK> shirts that show off their <UNK> sickening that men actually wore them and the music is just <UNK> trash that plays over and over again in almost every scene there is trashy music boobs and <UNK> taking away bodies and the gym still doesn't close for <UNK> all joking aside this is a truly bad film whose only charm is to look back on the disaster that was the 80's and have a good old laugh at how bad everything was back then\""
      ]
     },
     "execution_count": 8,
     "metadata": {},
     "output_type": "execute_result"
    }
   ],
   "source": [
    "decode_review(train_data[1])"
   ]
  },
  {
   "cell_type": "code",
   "execution_count": 9,
   "metadata": {},
   "outputs": [],
   "source": [
    "train_data = keras.preprocessing.sequence.pad_sequences(train_data,\n",
    "                                                       value = word_index[\"<PAD>\"],\n",
    "                                                       padding = 'post',\n",
    "                                                       maxlen = 256)"
   ]
  },
  {
   "cell_type": "code",
   "execution_count": 10,
   "metadata": {},
   "outputs": [],
   "source": [
    "test_data = keras.preprocessing.sequence.pad_sequences(test_data,\n",
    "                                                       value = word_index[\"<PAD>\"],\n",
    "                                                       padding = 'post',\n",
    "                                                       maxlen = 256)"
   ]
  },
  {
   "cell_type": "code",
   "execution_count": 11,
   "metadata": {},
   "outputs": [
    {
     "data": {
      "text/plain": [
       "(256, 256)"
      ]
     },
     "execution_count": 11,
     "metadata": {},
     "output_type": "execute_result"
    }
   ],
   "source": [
    "len(train_data[0]), len(train_data[1])"
   ]
  },
  {
   "cell_type": "code",
   "execution_count": 12,
   "metadata": {},
   "outputs": [
    {
     "name": "stdout",
     "output_type": "stream",
     "text": [
      "[   1   14   22   16   43  530  973 1622 1385   65  458 4468   66 3941\n",
      "    4  173   36  256    5   25  100   43  838  112   50  670    2    9\n",
      "   35  480  284    5  150    4  172  112  167    2  336  385   39    4\n",
      "  172 4536 1111   17  546   38   13  447    4  192   50   16    6  147\n",
      " 2025   19   14   22    4 1920 4613  469    4   22   71   87   12   16\n",
      "   43  530   38   76   15   13 1247    4   22   17  515   17   12   16\n",
      "  626   18    2    5   62  386   12    8  316    8  106    5    4 2223\n",
      " 5244   16  480   66 3785   33    4  130   12   16   38  619    5   25\n",
      "  124   51   36  135   48   25 1415   33    6   22   12  215   28   77\n",
      "   52    5   14  407   16   82    2    8    4  107  117 5952   15  256\n",
      "    4    2    7 3766    5  723   36   71   43  530  476   26  400  317\n",
      "   46    7    4    2 1029   13  104   88    4  381   15  297   98   32\n",
      " 2071   56   26  141    6  194 7486   18    4  226   22   21  134  476\n",
      "   26  480    5  144   30 5535   18   51   36   28  224   92   25  104\n",
      "    4  226   65   16   38 1334   88   12   16  283    5   16 4472  113\n",
      "  103   32   15   16 5345   19  178   32    0    0    0    0    0    0\n",
      "    0    0    0    0    0    0    0    0    0    0    0    0    0    0\n",
      "    0    0    0    0    0    0    0    0    0    0    0    0    0    0\n",
      "    0    0    0    0]\n"
     ]
    }
   ],
   "source": [
    "print (train_data[0])"
   ]
  },
  {
   "cell_type": "code",
   "execution_count": 13,
   "metadata": {},
   "outputs": [
    {
     "name": "stdout",
     "output_type": "stream",
     "text": [
      "Model: \"sequential\"\n",
      "_________________________________________________________________\n",
      "Layer (type)                 Output Shape              Param #   \n",
      "=================================================================\n",
      "embedding (Embedding)        (None, None, 16)          160000    \n",
      "_________________________________________________________________\n",
      "global_average_pooling1d (Gl (None, 16)                0         \n",
      "_________________________________________________________________\n",
      "dense (Dense)                (None, 16)                272       \n",
      "_________________________________________________________________\n",
      "dense_1 (Dense)              (None, 1)                 17        \n",
      "=================================================================\n",
      "Total params: 160,289\n",
      "Trainable params: 160,289\n",
      "Non-trainable params: 0\n",
      "_________________________________________________________________\n"
     ]
    }
   ],
   "source": [
    "# Input shape is the vocabulary count used for the moview reviews (10000 words)\n",
    "vocab_size = 10000\n",
    "\n",
    "model = keras.Sequential()\n",
    "model.add(keras.layers.Embedding(vocab_size, 16))\n",
    "model.add(keras.layers.GlobalAveragePooling1D())\n",
    "model.add(keras.layers.Dense(16, activation = 'relu'))\n",
    "model.add(keras.layers.Dense(1, activation = 'sigmoid'))\n",
    "\n",
    "model.summary()"
   ]
  },
  {
   "cell_type": "code",
   "execution_count": 14,
   "metadata": {},
   "outputs": [],
   "source": [
    "# Define Loss function and optimizer\n",
    "model.compile(optimizer = 'adam',\n",
    "              loss = 'binary_crossentropy',\n",
    "              metrics = ['accuracy'])"
   ]
  },
  {
   "cell_type": "code",
   "execution_count": 15,
   "metadata": {},
   "outputs": [],
   "source": [
    "# Create a Validation Set\n",
    "x_val = train_data[:10000]\n",
    "partial_x_train = train_data[10000:]\n",
    "\n",
    "y_val = train_labels[:10000]\n",
    "partial_y_train = train_labels[10000:]\n"
   ]
  },
  {
   "cell_type": "code",
   "execution_count": 16,
   "metadata": {},
   "outputs": [
    {
     "name": "stdout",
     "output_type": "stream",
     "text": [
      "Train on 15000 samples, validate on 10000 samples\n",
      "Epoch 1/40\n",
      "15000/15000 [==============================] - 1s 69us/sample - loss: 0.6913 - accuracy: 0.5714 - val_loss: 0.6882 - val_accuracy: 0.6510\n",
      "Epoch 2/40\n",
      "15000/15000 [==============================] - 1s 45us/sample - loss: 0.6824 - accuracy: 0.7315 - val_loss: 0.6765 - val_accuracy: 0.7225\n",
      "Epoch 3/40\n",
      "15000/15000 [==============================] - 1s 45us/sample - loss: 0.6645 - accuracy: 0.7477 - val_loss: 0.6548 - val_accuracy: 0.7550\n",
      "Epoch 4/40\n",
      "15000/15000 [==============================] - 1s 45us/sample - loss: 0.6353 - accuracy: 0.7645 - val_loss: 0.6227 - val_accuracy: 0.7662\n",
      "Epoch 5/40\n",
      "15000/15000 [==============================] - 1s 44us/sample - loss: 0.5955 - accuracy: 0.7972 - val_loss: 0.5826 - val_accuracy: 0.7920\n",
      "Epoch 6/40\n",
      "15000/15000 [==============================] - 1s 50us/sample - loss: 0.5484 - accuracy: 0.8199 - val_loss: 0.5389 - val_accuracy: 0.8111\n",
      "Epoch 7/40\n",
      "15000/15000 [==============================] - 1s 59us/sample - loss: 0.4987 - accuracy: 0.8370 - val_loss: 0.4935 - val_accuracy: 0.8276\n",
      "Epoch 8/40\n",
      "15000/15000 [==============================] - 1s 51us/sample - loss: 0.4513 - accuracy: 0.8542 - val_loss: 0.4537 - val_accuracy: 0.8398\n",
      "Epoch 9/40\n",
      "15000/15000 [==============================] - 1s 56us/sample - loss: 0.4091 - accuracy: 0.8689 - val_loss: 0.4194 - val_accuracy: 0.8501\n",
      "Epoch 10/40\n",
      "15000/15000 [==============================] - 1s 50us/sample - loss: 0.3728 - accuracy: 0.8795 - val_loss: 0.3921 - val_accuracy: 0.8560\n",
      "Epoch 11/40\n",
      "15000/15000 [==============================] - 1s 59us/sample - loss: 0.3426 - accuracy: 0.8874 - val_loss: 0.3698 - val_accuracy: 0.8641\n",
      "Epoch 12/40\n",
      "15000/15000 [==============================] - 1s 43us/sample - loss: 0.3172 - accuracy: 0.8936 - val_loss: 0.3527 - val_accuracy: 0.8660\n",
      "Epoch 13/40\n",
      "15000/15000 [==============================] - 1s 46us/sample - loss: 0.2963 - accuracy: 0.9007 - val_loss: 0.3379 - val_accuracy: 0.8715\n",
      "Epoch 14/40\n",
      "15000/15000 [==============================] - 1s 43us/sample - loss: 0.2774 - accuracy: 0.9061 - val_loss: 0.3270 - val_accuracy: 0.8754\n",
      "Epoch 15/40\n",
      "15000/15000 [==============================] - 1s 46us/sample - loss: 0.2614 - accuracy: 0.9106 - val_loss: 0.3181 - val_accuracy: 0.8764\n",
      "Epoch 16/40\n",
      "15000/15000 [==============================] - 1s 44us/sample - loss: 0.2470 - accuracy: 0.9165 - val_loss: 0.3106 - val_accuracy: 0.8770\n",
      "Epoch 17/40\n",
      "15000/15000 [==============================] - 1s 56us/sample - loss: 0.2336 - accuracy: 0.9199 - val_loss: 0.3044 - val_accuracy: 0.8797\n",
      "Epoch 18/40\n",
      "15000/15000 [==============================] - 1s 44us/sample - loss: 0.2218 - accuracy: 0.9244 - val_loss: 0.2995 - val_accuracy: 0.8823\n",
      "Epoch 19/40\n",
      "15000/15000 [==============================] - 1s 44us/sample - loss: 0.2110 - accuracy: 0.9264 - val_loss: 0.2951 - val_accuracy: 0.8829\n",
      "Epoch 20/40\n",
      "15000/15000 [==============================] - 1s 46us/sample - loss: 0.2013 - accuracy: 0.9307 - val_loss: 0.2922 - val_accuracy: 0.8831\n",
      "Epoch 21/40\n",
      "15000/15000 [==============================] - 1s 44us/sample - loss: 0.1912 - accuracy: 0.9369 - val_loss: 0.2897 - val_accuracy: 0.8842\n",
      "Epoch 22/40\n",
      "15000/15000 [==============================] - 1s 45us/sample - loss: 0.1829 - accuracy: 0.9402 - val_loss: 0.2879 - val_accuracy: 0.8844\n",
      "Epoch 23/40\n",
      "15000/15000 [==============================] - 1s 44us/sample - loss: 0.1745 - accuracy: 0.9439 - val_loss: 0.2875 - val_accuracy: 0.8850\n",
      "Epoch 24/40\n",
      "15000/15000 [==============================] - 1s 50us/sample - loss: 0.1672 - accuracy: 0.9469 - val_loss: 0.2863 - val_accuracy: 0.8843\n",
      "Epoch 25/40\n",
      "15000/15000 [==============================] - 1s 44us/sample - loss: 0.1597 - accuracy: 0.9504 - val_loss: 0.2855 - val_accuracy: 0.8854\n",
      "Epoch 26/40\n",
      "15000/15000 [==============================] - 1s 47us/sample - loss: 0.1531 - accuracy: 0.9528 - val_loss: 0.2865 - val_accuracy: 0.8836\n",
      "Epoch 27/40\n",
      "15000/15000 [==============================] - 1s 47us/sample - loss: 0.1468 - accuracy: 0.9553 - val_loss: 0.2864 - val_accuracy: 0.8848\n",
      "Epoch 28/40\n",
      "15000/15000 [==============================] - 1s 46us/sample - loss: 0.1407 - accuracy: 0.9573 - val_loss: 0.2875 - val_accuracy: 0.8854\n",
      "Epoch 29/40\n",
      "15000/15000 [==============================] - 1s 46us/sample - loss: 0.1353 - accuracy: 0.9605 - val_loss: 0.2894 - val_accuracy: 0.8844\n",
      "Epoch 30/40\n",
      "15000/15000 [==============================] - 1s 45us/sample - loss: 0.1298 - accuracy: 0.9623 - val_loss: 0.2894 - val_accuracy: 0.8862\n",
      "Epoch 31/40\n",
      "15000/15000 [==============================] - 1s 46us/sample - loss: 0.1241 - accuracy: 0.9649 - val_loss: 0.2909 - val_accuracy: 0.8858\n",
      "Epoch 32/40\n",
      "15000/15000 [==============================] - 1s 46us/sample - loss: 0.1191 - accuracy: 0.9671 - val_loss: 0.2928 - val_accuracy: 0.8858\n",
      "Epoch 33/40\n",
      "15000/15000 [==============================] - 1s 45us/sample - loss: 0.1142 - accuracy: 0.9685 - val_loss: 0.2955 - val_accuracy: 0.8846\n",
      "Epoch 34/40\n",
      "15000/15000 [==============================] - 1s 45us/sample - loss: 0.1099 - accuracy: 0.9695 - val_loss: 0.2981 - val_accuracy: 0.8842\n",
      "Epoch 35/40\n",
      "15000/15000 [==============================] - 1s 49us/sample - loss: 0.1057 - accuracy: 0.9712 - val_loss: 0.3013 - val_accuracy: 0.8841\n",
      "Epoch 36/40\n",
      "15000/15000 [==============================] - 1s 45us/sample - loss: 0.1015 - accuracy: 0.9732 - val_loss: 0.3032 - val_accuracy: 0.8840\n",
      "Epoch 37/40\n",
      "15000/15000 [==============================] - 1s 43us/sample - loss: 0.0973 - accuracy: 0.9743 - val_loss: 0.3062 - val_accuracy: 0.8831\n",
      "Epoch 38/40\n",
      "15000/15000 [==============================] - 1s 46us/sample - loss: 0.0935 - accuracy: 0.9760 - val_loss: 0.3102 - val_accuracy: 0.8823\n",
      "Epoch 39/40\n",
      "15000/15000 [==============================] - 1s 45us/sample - loss: 0.0903 - accuracy: 0.9772 - val_loss: 0.3145 - val_accuracy: 0.8810\n",
      "Epoch 40/40\n",
      "15000/15000 [==============================] - 1s 44us/sample - loss: 0.0863 - accuracy: 0.9785 - val_loss: 0.3176 - val_accuracy: 0.8820\n"
     ]
    }
   ],
   "source": [
    "history = model.fit(partial_x_train,\n",
    "                    partial_y_train,\n",
    "                    epochs = 40,\n",
    "                    batch_size = 512,\n",
    "                    validation_data = (x_val, y_val),\n",
    "                    verbose = 1)"
   ]
  },
  {
   "cell_type": "code",
   "execution_count": 17,
   "metadata": {},
   "outputs": [
    {
     "name": "stdout",
     "output_type": "stream",
     "text": [
      "25000/25000 [==============================] - 1s 44us/sample - loss: 0.3399 - accuracy: 0.8699\n",
      "[0.33987294234275817, 0.86988]\n"
     ]
    }
   ],
   "source": [
    "results = model.evaluate(test_data, test_labels)\n",
    "print (results)"
   ]
  },
  {
   "cell_type": "code",
   "execution_count": 18,
   "metadata": {},
   "outputs": [
    {
     "data": {
      "text/plain": [
       "dict_keys(['loss', 'accuracy', 'val_loss', 'val_accuracy'])"
      ]
     },
     "execution_count": 18,
     "metadata": {},
     "output_type": "execute_result"
    }
   ],
   "source": [
    "history_dict = history.history\n",
    "history_dict.keys()"
   ]
  },
  {
   "cell_type": "code",
   "execution_count": 19,
   "metadata": {},
   "outputs": [],
   "source": [
    "# Plot the training and testing curve\n",
    "import matplotlib.pyplot as plt\n",
    "acc = history_dict[\"accuracy\"]\n",
    "val_acc = history_dict[\"val_accuracy\"]\n",
    "loss = history_dict[\"loss\"]\n",
    "val_loss = history_dict[\"val_loss\"]\n",
    "\n",
    "epochs = range(1, len(acc) + 1)"
   ]
  },
  {
   "cell_type": "code",
   "execution_count": 20,
   "metadata": {},
   "outputs": [
    {
     "data": {
      "image/png": "[encoded data removed]",
      "text/plain": [
       "<Figure size 432x288 with 1 Axes>"
      ]
     },
     "metadata": {
      "needs_background": "light"
     },
     "output_type": "display_data"
    }
   ],
   "source": [
    "# \"bo\" is for blue dot\n",
    "plt.plot(epochs, loss, 'bo', label = 'Training Loss')\n",
    "plt.title(\"Training and Validation Loss\")\n",
    "plt.xlabel(\"Epochs\")\n",
    "plt.ylabel(\"Loss\")\n",
    "plt.legend()\n",
    "plt.show()"
   ]
  },
  {
   "cell_type": "code",
   "execution_count": 21,
   "metadata": {},
   "outputs": [
    {
     "data": {
      "image/png": "[encoded data removed]",
      "text/plain": [
       "<Figure size 432x288 with 1 Axes>"
      ]
     },
     "metadata": {
      "needs_background": "light"
     },
     "output_type": "display_data"
    }
   ],
   "source": [
    "plt.clf() # Clear figure\n",
    "\n",
    "plt.plot(epochs, acc, 'bo', label = \"Training Accuracy\")\n",
    "plt.plot(epochs, val_acc, 'b', label = \"Validation Accuracy\")\n",
    "plt.title(\"Training and Validation Accuracy\")\n",
    "plt.xlabel(\"Epochs\")\n",
    "plt.ylabel(\"Accuracy\")\n",
    "plt.legend()\n",
    "\n",
    "plt.show()"
   ]
  },
  {
   "cell_type": "code",
   "execution_count": null,
   "metadata": {},
   "outputs": [],
   "source": []
  }
 ],
 "metadata": {
  "kernelspec": {
   "display_name": "Python 3",
   "language": "python",
   "name": "python3"
  },
  "language_info": {
   "codemirror_mode": {
    "name": "ipython",
    "version": 3
   },
   "file_extension": ".py",
   "mimetype": "text/x-python",
   "name": "python",
   "nbconvert_exporter": "python",
   "pygments_lexer": "ipython3",
   "version": "3.6.6"
  }
 },
 "nbformat": 4,
 "nbformat_minor": 2
}
